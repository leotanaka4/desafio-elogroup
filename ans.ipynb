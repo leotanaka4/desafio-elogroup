{
 "cells": [
  {
   "attachments": {},
   "cell_type": "markdown",
   "metadata": {},
   "source": [
    "# Desafio - EXPANSÃO DE UMA REDE DE LABORATÓRIOS"
   ]
  },
  {
   "attachments": {},
   "cell_type": "markdown",
   "metadata": {},
   "source": [
    "# 1. Introdução"
   ]
  },
  {
   "attachments": {},
   "cell_type": "markdown",
   "metadata": {},
   "source": [
    "## 1.1. Cenário\n",
    "\n",
    "A medicina diagnóstica tem um papel\n",
    "fundamental na jornada de atendimento dos\n",
    "pacientes de qualquer sistema de saúde em\n",
    "qualquer lugar do mundo, sendo somente\n",
    "nos EUA um mercado de aproximadamente\n",
    "106 bilhões de dólarers com mais de 40 mil\n",
    "laboratórios, empregando mais de 680 mil\n",
    "funcionários segundo a ACLA.\n",
    "\n",
    "## 1.2. Problema\n",
    "\n",
    "Diante desse cenário, o desafio proposto tem\n",
    "como objetivo auxiliar a área de negócios\n",
    "de uma rede norte americana de medicina\n",
    "diagnóstica a ter insumos iniciais para suportar\n",
    "seu plano de expansão da rede de laboratórios.\n",
    "\n",
    "Sabe-se que não é possível ou é bem difícil\n",
    "gerar demanda e fazer ofertas neste tipo de\n",
    "mercado, entretanto é muito interessante e\n",
    "rentável fidelizar o cliente para que ele sempre\n",
    "visite a rede quando surgir a necessidade.\n",
    "\n",
    "## 1.3. Objetivo\n",
    "\n",
    "Apresentar e justificar a escolha de TRÊS ZIP CODES para a\n",
    "instalação dos novos laboratórios da rede.\n",
    "\n",
    "## 1.4. Definição caminhos de abordagem\n",
    "\n",
    "Para definir os caminhos de abordagem para o problema em questão,\n",
    "é necessário o entendimento do problema e objetivo do desafio.\n",
    "Será fundamental a definição de métricas para avaliar cada\n",
    "laboratório levando em consideração diversos fatores que\n",
    "justificarão a decisão final de escolha dos três laboratórios da rede.\n",
    "Os tipos de fatores que serão considerados serão:\n",
    "\n",
    "* Histórico\n",
    "* Econômico\n",
    "* Logístico\n",
    "* Demográfico\n",
    "* Geográfico"
   ]
  },
  {
   "attachments": {},
   "cell_type": "markdown",
   "metadata": {},
   "source": [
    "# 2. Coleta dos dados"
   ]
  },
  {
   "attachments": {},
   "cell_type": "markdown",
   "metadata": {},
   "source": [
    "Importante: Os dados não estão no repositório do Github, porque excede o limite de dados armazenados permitido."
   ]
  },
  {
   "cell_type": "code",
   "execution_count": 212,
   "metadata": {},
   "outputs": [],
   "source": [
    "# Importando as bibliotecas\n",
    "import pandas as pd"
   ]
  },
  {
   "cell_type": "code",
   "execution_count": 213,
   "metadata": {},
   "outputs": [
    {
     "data": {
      "text/html": [
       "<div>\n",
       "<style scoped>\n",
       "    .dataframe tbody tr th:only-of-type {\n",
       "        vertical-align: middle;\n",
       "    }\n",
       "\n",
       "    .dataframe tbody tr th {\n",
       "        vertical-align: top;\n",
       "    }\n",
       "\n",
       "    .dataframe thead th {\n",
       "        text-align: right;\n",
       "    }\n",
       "</style>\n",
       "<table border=\"1\" class=\"dataframe\">\n",
       "  <thead>\n",
       "    <tr style=\"text-align: right;\">\n",
       "      <th></th>\n",
       "      <th>Lab Id</th>\n",
       "      <th>Address</th>\n",
       "      <th>Location</th>\n",
       "      <th>Zipcode</th>\n",
       "    </tr>\n",
       "  </thead>\n",
       "  <tbody>\n",
       "    <tr>\n",
       "      <th>0</th>\n",
       "      <td>L152</td>\n",
       "      <td>3800 PLEASANT HILL RD STE 1, DULUTH, GA 30096</td>\n",
       "      <td>34.000319,-84.1629724</td>\n",
       "      <td>30096.0</td>\n",
       "    </tr>\n",
       "    <tr>\n",
       "      <th>1</th>\n",
       "      <td>L520</td>\n",
       "      <td>1614 N JAMES ST, ROME, NY 13440</td>\n",
       "      <td>43.2311327,-75.4445363</td>\n",
       "      <td>13440.0</td>\n",
       "    </tr>\n",
       "    <tr>\n",
       "      <th>2</th>\n",
       "      <td>L141</td>\n",
       "      <td>12911 120TH AVE NE STE D60, KIRKLAND, WA 98034</td>\n",
       "      <td>47.7162786,-122.1838152</td>\n",
       "      <td>98034.0</td>\n",
       "    </tr>\n",
       "    <tr>\n",
       "      <th>3</th>\n",
       "      <td>L524</td>\n",
       "      <td>5667 PEACHTREE DUNWOODY RD 250, ATLANTA, GA 30342</td>\n",
       "      <td>33.9093875,-84.3529096</td>\n",
       "      <td>30342.0</td>\n",
       "    </tr>\n",
       "    <tr>\n",
       "      <th>4</th>\n",
       "      <td>L545</td>\n",
       "      <td>1204 IL HWY 164, OQUAWKA, IL 61469</td>\n",
       "      <td>40.9309925,-90.9437598</td>\n",
       "      <td>61469.0</td>\n",
       "    </tr>\n",
       "  </tbody>\n",
       "</table>\n",
       "</div>"
      ],
      "text/plain": [
       "  Lab Id                                            Address  \\\n",
       "0   L152      3800 PLEASANT HILL RD STE 1, DULUTH, GA 30096   \n",
       "1   L520                    1614 N JAMES ST, ROME, NY 13440   \n",
       "2   L141     12911 120TH AVE NE STE D60, KIRKLAND, WA 98034   \n",
       "3   L524  5667 PEACHTREE DUNWOODY RD 250, ATLANTA, GA 30342   \n",
       "4   L545                 1204 IL HWY 164, OQUAWKA, IL 61469   \n",
       "\n",
       "                  Location  Zipcode  \n",
       "0    34.000319,-84.1629724  30096.0  \n",
       "1   43.2311327,-75.4445363  13440.0  \n",
       "2  47.7162786,-122.1838152  98034.0  \n",
       "3   33.9093875,-84.3529096  30342.0  \n",
       "4   40.9309925,-90.9437598  61469.0  "
      ]
     },
     "execution_count": 213,
     "metadata": {},
     "output_type": "execute_result"
    }
   ],
   "source": [
    "df_geo = pd.read_csv(\"data/df_geocode.csv\", index_col=0)\n",
    "df_geo.head()"
   ]
  },
  {
   "cell_type": "code",
   "execution_count": 214,
   "metadata": {},
   "outputs": [
    {
     "data": {
      "text/html": [
       "<div>\n",
       "<style scoped>\n",
       "    .dataframe tbody tr th:only-of-type {\n",
       "        vertical-align: middle;\n",
       "    }\n",
       "\n",
       "    .dataframe tbody tr th {\n",
       "        vertical-align: top;\n",
       "    }\n",
       "\n",
       "    .dataframe thead th {\n",
       "        text-align: right;\n",
       "    }\n",
       "</style>\n",
       "<table border=\"1\" class=\"dataframe\">\n",
       "  <thead>\n",
       "    <tr style=\"text-align: right;\">\n",
       "      <th></th>\n",
       "      <th>Patient Id</th>\n",
       "      <th>Gender</th>\n",
       "      <th>Date of birth</th>\n",
       "      <th>Date of service</th>\n",
       "      <th>Service Id</th>\n",
       "      <th>Lab Id</th>\n",
       "      <th>CodItem</th>\n",
       "      <th>Testing Cost</th>\n",
       "    </tr>\n",
       "  </thead>\n",
       "  <tbody>\n",
       "    <tr>\n",
       "      <th>0</th>\n",
       "      <td>10210830256-BIO003</td>\n",
       "      <td>F</td>\n",
       "      <td>01/08/1976 00:00:00</td>\n",
       "      <td>2019-01-07</td>\n",
       "      <td>571904533475-38</td>\n",
       "      <td>L133</td>\n",
       "      <td>70003237</td>\n",
       "      <td>9,0</td>\n",
       "    </tr>\n",
       "    <tr>\n",
       "      <th>1</th>\n",
       "      <td>10210830256-BIO003</td>\n",
       "      <td>F</td>\n",
       "      <td>01/08/1976 00:00:00</td>\n",
       "      <td>2019-01-07</td>\n",
       "      <td>571904533475-38</td>\n",
       "      <td>L133</td>\n",
       "      <td>70000638</td>\n",
       "      <td>13,0</td>\n",
       "    </tr>\n",
       "    <tr>\n",
       "      <th>2</th>\n",
       "      <td>10210830256-BIO003</td>\n",
       "      <td>F</td>\n",
       "      <td>01/08/1976 00:00:00</td>\n",
       "      <td>2019-01-07</td>\n",
       "      <td>571904533475-38</td>\n",
       "      <td>L133</td>\n",
       "      <td>70001597</td>\n",
       "      <td>49,0</td>\n",
       "    </tr>\n",
       "    <tr>\n",
       "      <th>3</th>\n",
       "      <td>10210830256-BIO003</td>\n",
       "      <td>F</td>\n",
       "      <td>01/08/1976 00:00:00</td>\n",
       "      <td>2019-01-07</td>\n",
       "      <td>571904533475-38</td>\n",
       "      <td>L133</td>\n",
       "      <td>70000103</td>\n",
       "      <td>11,0</td>\n",
       "    </tr>\n",
       "    <tr>\n",
       "      <th>4</th>\n",
       "      <td>10210830256-BIO003</td>\n",
       "      <td>F</td>\n",
       "      <td>01/08/1976 00:00:00</td>\n",
       "      <td>2019-01-07</td>\n",
       "      <td>571904533475-38</td>\n",
       "      <td>L133</td>\n",
       "      <td>70000224</td>\n",
       "      <td>10,0</td>\n",
       "    </tr>\n",
       "  </tbody>\n",
       "</table>\n",
       "</div>"
      ],
      "text/plain": [
       "           Patient Id Gender        Date of birth Date of service  \\\n",
       "0  10210830256-BIO003      F  01/08/1976 00:00:00      2019-01-07   \n",
       "1  10210830256-BIO003      F  01/08/1976 00:00:00      2019-01-07   \n",
       "2  10210830256-BIO003      F  01/08/1976 00:00:00      2019-01-07   \n",
       "3  10210830256-BIO003      F  01/08/1976 00:00:00      2019-01-07   \n",
       "4  10210830256-BIO003      F  01/08/1976 00:00:00      2019-01-07   \n",
       "\n",
       "        Service Id Lab Id   CodItem Testing Cost  \n",
       "0  571904533475-38   L133  70003237          9,0  \n",
       "1  571904533475-38   L133  70000638         13,0  \n",
       "2  571904533475-38   L133  70001597         49,0  \n",
       "3  571904533475-38   L133  70000103         11,0  \n",
       "4  571904533475-38   L133  70000224         10,0  "
      ]
     },
     "execution_count": 214,
     "metadata": {},
     "output_type": "execute_result"
    }
   ],
   "source": [
    "df_exames = pd.read_csv(\"data/transactional_data.csv\", delimiter=\";\")\n",
    "df_exames.head()"
   ]
  },
  {
   "cell_type": "code",
   "execution_count": 215,
   "metadata": {},
   "outputs": [
    {
     "data": {
      "text/plain": [
       "Patient Id         object\n",
       "Gender             object\n",
       "Date of birth      object\n",
       "Date of service    object\n",
       "Service Id         object\n",
       "Lab Id             object\n",
       "CodItem             int64\n",
       "Testing Cost       object\n",
       "dtype: object"
      ]
     },
     "execution_count": 215,
     "metadata": {},
     "output_type": "execute_result"
    }
   ],
   "source": [
    "df_exames.dtypes"
   ]
  },
  {
   "cell_type": "code",
   "execution_count": 216,
   "metadata": {},
   "outputs": [
    {
     "data": {
      "text/html": [
       "<div>\n",
       "<style scoped>\n",
       "    .dataframe tbody tr th:only-of-type {\n",
       "        vertical-align: middle;\n",
       "    }\n",
       "\n",
       "    .dataframe tbody tr th {\n",
       "        vertical-align: top;\n",
       "    }\n",
       "\n",
       "    .dataframe thead th {\n",
       "        text-align: right;\n",
       "    }\n",
       "</style>\n",
       "<table border=\"1\" class=\"dataframe\">\n",
       "  <thead>\n",
       "    <tr style=\"text-align: right;\">\n",
       "      <th></th>\n",
       "      <th>CodItem</th>\n",
       "      <th>Desc Item</th>\n",
       "      <th>Category</th>\n",
       "      <th>Family</th>\n",
       "      <th>Speciality</th>\n",
       "      <th>Testing Cost</th>\n",
       "    </tr>\n",
       "  </thead>\n",
       "  <tbody>\n",
       "    <tr>\n",
       "      <th>0</th>\n",
       "      <td>70003237</td>\n",
       "      <td>MAGNESIO, SORO (EXEMPLO DE EXPRESSAO DE RESULT...</td>\n",
       "      <td>CA</td>\n",
       "      <td>CORELAB</td>\n",
       "      <td>BIOCHEMISTRY</td>\n",
       "      <td>1.78</td>\n",
       "    </tr>\n",
       "    <tr>\n",
       "      <th>1</th>\n",
       "      <td>70000638</td>\n",
       "      <td>HEMOGRAMA, AUTOMATIZADO, SANGUE</td>\n",
       "      <td>CA</td>\n",
       "      <td>HEMATO</td>\n",
       "      <td>BLOOD COUNT</td>\n",
       "      <td>2.46</td>\n",
       "    </tr>\n",
       "    <tr>\n",
       "      <th>2</th>\n",
       "      <td>70001597</td>\n",
       "      <td>FERRITINA, SORO</td>\n",
       "      <td>CA</td>\n",
       "      <td>CORELAB</td>\n",
       "      <td>IMMUNOHORMONE</td>\n",
       "      <td>2.11</td>\n",
       "    </tr>\n",
       "    <tr>\n",
       "      <th>3</th>\n",
       "      <td>70000103</td>\n",
       "      <td>FERRO, DOSAGEM, SORO (EXEMPLO DE EXPRESSAO DE ...</td>\n",
       "      <td>CA</td>\n",
       "      <td>CORELAB</td>\n",
       "      <td>BIOCHEMISTRY</td>\n",
       "      <td>0.80</td>\n",
       "    </tr>\n",
       "    <tr>\n",
       "      <th>4</th>\n",
       "      <td>70000224</td>\n",
       "      <td>CALCIO, DOSAGEM, SORO (EXEMPLO DE EXPRESSAO DE...</td>\n",
       "      <td>CA</td>\n",
       "      <td>CORELAB</td>\n",
       "      <td>BIOCHEMISTRY</td>\n",
       "      <td>1.02</td>\n",
       "    </tr>\n",
       "  </tbody>\n",
       "</table>\n",
       "</div>"
      ],
      "text/plain": [
       "    CodItem                                          Desc Item Category  \\\n",
       "0  70003237  MAGNESIO, SORO (EXEMPLO DE EXPRESSAO DE RESULT...       CA   \n",
       "1  70000638                    HEMOGRAMA, AUTOMATIZADO, SANGUE       CA   \n",
       "2  70001597                                    FERRITINA, SORO       CA   \n",
       "3  70000103  FERRO, DOSAGEM, SORO (EXEMPLO DE EXPRESSAO DE ...       CA   \n",
       "4  70000224  CALCIO, DOSAGEM, SORO (EXEMPLO DE EXPRESSAO DE...       CA   \n",
       "\n",
       "    Family     Speciality  Testing Cost  \n",
       "0  CORELAB   BIOCHEMISTRY          1.78  \n",
       "1   HEMATO    BLOOD COUNT          2.46  \n",
       "2  CORELAB  IMMUNOHORMONE          2.11  \n",
       "3  CORELAB   BIOCHEMISTRY          0.80  \n",
       "4  CORELAB   BIOCHEMISTRY          1.02  "
      ]
     },
     "execution_count": 216,
     "metadata": {},
     "output_type": "execute_result"
    }
   ],
   "source": [
    "df_info_exames = pd.read_csv(\"data/test_data.csv\")\n",
    "df_info_exames.head()"
   ]
  },
  {
   "cell_type": "code",
   "execution_count": 217,
   "metadata": {},
   "outputs": [
    {
     "data": {
      "text/plain": [
       "CodItem           int64\n",
       "Desc Item        object\n",
       "Category         object\n",
       "Family           object\n",
       "Speciality       object\n",
       "Testing Cost    float64\n",
       "dtype: object"
      ]
     },
     "execution_count": 217,
     "metadata": {},
     "output_type": "execute_result"
    }
   ],
   "source": [
    "df_info_exames.dtypes"
   ]
  },
  {
   "cell_type": "code",
   "execution_count": 218,
   "metadata": {},
   "outputs": [
    {
     "data": {
      "text/html": [
       "<div>\n",
       "<style scoped>\n",
       "    .dataframe tbody tr th:only-of-type {\n",
       "        vertical-align: middle;\n",
       "    }\n",
       "\n",
       "    .dataframe tbody tr th {\n",
       "        vertical-align: top;\n",
       "    }\n",
       "\n",
       "    .dataframe thead th {\n",
       "        text-align: right;\n",
       "    }\n",
       "</style>\n",
       "<table border=\"1\" class=\"dataframe\">\n",
       "  <thead>\n",
       "    <tr style=\"text-align: right;\">\n",
       "      <th></th>\n",
       "      <th>Id</th>\n",
       "      <th>GeographicAreaName</th>\n",
       "      <th>TotalPopulation</th>\n",
       "      <th>SexRatio(males per 100 females)</th>\n",
       "      <th>Population_Under5Years</th>\n",
       "      <th>Population_5to9Years</th>\n",
       "      <th>Population_10to14Years</th>\n",
       "      <th>Population_15to19Years</th>\n",
       "      <th>Population_20to24Years</th>\n",
       "      <th>Population_25to34Years</th>\n",
       "      <th>Population_35to44Years</th>\n",
       "      <th>Population_45to54Years</th>\n",
       "      <th>Population_55to59Years</th>\n",
       "      <th>Population_60to64Years</th>\n",
       "      <th>Population_65to74Years</th>\n",
       "      <th>Population_75to84Years</th>\n",
       "      <th>Population_85YearsAndOver</th>\n",
       "      <th>MedianAgeInYears</th>\n",
       "    </tr>\n",
       "  </thead>\n",
       "  <tbody>\n",
       "    <tr>\n",
       "      <th>0</th>\n",
       "      <td>8600000US35004</td>\n",
       "      <td>ZCTA5 35004</td>\n",
       "      <td>12045</td>\n",
       "      <td>94.1</td>\n",
       "      <td>805</td>\n",
       "      <td>1075</td>\n",
       "      <td>898</td>\n",
       "      <td>477</td>\n",
       "      <td>578</td>\n",
       "      <td>2088</td>\n",
       "      <td>1628</td>\n",
       "      <td>1200</td>\n",
       "      <td>886</td>\n",
       "      <td>683</td>\n",
       "      <td>1017</td>\n",
       "      <td>534</td>\n",
       "      <td>176</td>\n",
       "      <td>35.5</td>\n",
       "    </tr>\n",
       "    <tr>\n",
       "      <th>1</th>\n",
       "      <td>8600000US35005</td>\n",
       "      <td>ZCTA5 35005</td>\n",
       "      <td>7344</td>\n",
       "      <td>86.1</td>\n",
       "      <td>504</td>\n",
       "      <td>453</td>\n",
       "      <td>511</td>\n",
       "      <td>499</td>\n",
       "      <td>214</td>\n",
       "      <td>788</td>\n",
       "      <td>795</td>\n",
       "      <td>968</td>\n",
       "      <td>612</td>\n",
       "      <td>561</td>\n",
       "      <td>798</td>\n",
       "      <td>485</td>\n",
       "      <td>156</td>\n",
       "      <td>44.0</td>\n",
       "    </tr>\n",
       "    <tr>\n",
       "      <th>2</th>\n",
       "      <td>8600000US35006</td>\n",
       "      <td>ZCTA5 35006</td>\n",
       "      <td>2883</td>\n",
       "      <td>108.2</td>\n",
       "      <td>96</td>\n",
       "      <td>153</td>\n",
       "      <td>303</td>\n",
       "      <td>129</td>\n",
       "      <td>156</td>\n",
       "      <td>183</td>\n",
       "      <td>367</td>\n",
       "      <td>430</td>\n",
       "      <td>296</td>\n",
       "      <td>260</td>\n",
       "      <td>280</td>\n",
       "      <td>201</td>\n",
       "      <td>29</td>\n",
       "      <td>47.2</td>\n",
       "    </tr>\n",
       "    <tr>\n",
       "      <th>3</th>\n",
       "      <td>8600000US35007</td>\n",
       "      <td>ZCTA5 35007</td>\n",
       "      <td>26332</td>\n",
       "      <td>95.0</td>\n",
       "      <td>1936</td>\n",
       "      <td>1992</td>\n",
       "      <td>1837</td>\n",
       "      <td>1762</td>\n",
       "      <td>1376</td>\n",
       "      <td>3119</td>\n",
       "      <td>3849</td>\n",
       "      <td>3907</td>\n",
       "      <td>1665</td>\n",
       "      <td>1323</td>\n",
       "      <td>2096</td>\n",
       "      <td>1106</td>\n",
       "      <td>364</td>\n",
       "      <td>37.7</td>\n",
       "    </tr>\n",
       "    <tr>\n",
       "      <th>4</th>\n",
       "      <td>8600000US35010</td>\n",
       "      <td>ZCTA5 35010</td>\n",
       "      <td>20613</td>\n",
       "      <td>90.5</td>\n",
       "      <td>1306</td>\n",
       "      <td>1465</td>\n",
       "      <td>944</td>\n",
       "      <td>1217</td>\n",
       "      <td>1128</td>\n",
       "      <td>2513</td>\n",
       "      <td>2106</td>\n",
       "      <td>2950</td>\n",
       "      <td>1512</td>\n",
       "      <td>1472</td>\n",
       "      <td>2421</td>\n",
       "      <td>1155</td>\n",
       "      <td>424</td>\n",
       "      <td>42.6</td>\n",
       "    </tr>\n",
       "  </tbody>\n",
       "</table>\n",
       "</div>"
      ],
      "text/plain": [
       "               Id GeographicAreaName  TotalPopulation  \\\n",
       "0  8600000US35004        ZCTA5 35004            12045   \n",
       "1  8600000US35005        ZCTA5 35005             7344   \n",
       "2  8600000US35006        ZCTA5 35006             2883   \n",
       "3  8600000US35007        ZCTA5 35007            26332   \n",
       "4  8600000US35010        ZCTA5 35010            20613   \n",
       "\n",
       "   SexRatio(males per 100 females)  Population_Under5Years  \\\n",
       "0                             94.1                     805   \n",
       "1                             86.1                     504   \n",
       "2                            108.2                      96   \n",
       "3                             95.0                    1936   \n",
       "4                             90.5                    1306   \n",
       "\n",
       "   Population_5to9Years  Population_10to14Years  Population_15to19Years  \\\n",
       "0                  1075                     898                     477   \n",
       "1                   453                     511                     499   \n",
       "2                   153                     303                     129   \n",
       "3                  1992                    1837                    1762   \n",
       "4                  1465                     944                    1217   \n",
       "\n",
       "   Population_20to24Years  Population_25to34Years  Population_35to44Years  \\\n",
       "0                     578                    2088                    1628   \n",
       "1                     214                     788                     795   \n",
       "2                     156                     183                     367   \n",
       "3                    1376                    3119                    3849   \n",
       "4                    1128                    2513                    2106   \n",
       "\n",
       "   Population_45to54Years  Population_55to59Years  Population_60to64Years  \\\n",
       "0                    1200                     886                     683   \n",
       "1                     968                     612                     561   \n",
       "2                     430                     296                     260   \n",
       "3                    3907                    1665                    1323   \n",
       "4                    2950                    1512                    1472   \n",
       "\n",
       "   Population_65to74Years  Population_75to84Years  Population_85YearsAndOver  \\\n",
       "0                    1017                     534                        176   \n",
       "1                     798                     485                        156   \n",
       "2                     280                     201                         29   \n",
       "3                    2096                    1106                        364   \n",
       "4                    2421                    1155                        424   \n",
       "\n",
       "   MedianAgeInYears  \n",
       "0              35.5  \n",
       "1              44.0  \n",
       "2              47.2  \n",
       "3              37.7  \n",
       "4              42.6  "
      ]
     },
     "execution_count": 218,
     "metadata": {},
     "output_type": "execute_result"
    }
   ],
   "source": [
    "df_demographic = pd.read_csv(\"data/DemographicData_ZCTAs.csv\", index_col=0)\n",
    "df_demographic.head()"
   ]
  },
  {
   "cell_type": "code",
   "execution_count": 219,
   "metadata": {},
   "outputs": [
    {
     "data": {
      "text/plain": [
       "Id                                  object\n",
       "GeographicAreaName                  object\n",
       "TotalPopulation                      int64\n",
       "SexRatio(males per 100 females)    float64\n",
       "Population_Under5Years               int64\n",
       "Population_5to9Years                 int64\n",
       "Population_10to14Years               int64\n",
       "Population_15to19Years               int64\n",
       "Population_20to24Years               int64\n",
       "Population_25to34Years               int64\n",
       "Population_35to44Years               int64\n",
       "Population_45to54Years               int64\n",
       "Population_55to59Years               int64\n",
       "Population_60to64Years               int64\n",
       "Population_65to74Years               int64\n",
       "Population_75to84Years               int64\n",
       "Population_85YearsAndOver            int64\n",
       "MedianAgeInYears                   float64\n",
       "dtype: object"
      ]
     },
     "execution_count": 219,
     "metadata": {},
     "output_type": "execute_result"
    }
   ],
   "source": [
    "df_demographic.dtypes"
   ]
  },
  {
   "cell_type": "code",
   "execution_count": 220,
   "metadata": {},
   "outputs": [
    {
     "data": {
      "text/html": [
       "<div>\n",
       "<style scoped>\n",
       "    .dataframe tbody tr th:only-of-type {\n",
       "        vertical-align: middle;\n",
       "    }\n",
       "\n",
       "    .dataframe tbody tr th {\n",
       "        vertical-align: top;\n",
       "    }\n",
       "\n",
       "    .dataframe thead th {\n",
       "        text-align: right;\n",
       "    }\n",
       "</style>\n",
       "<table border=\"1\" class=\"dataframe\">\n",
       "  <thead>\n",
       "    <tr style=\"text-align: right;\">\n",
       "      <th></th>\n",
       "      <th>id</th>\n",
       "      <th>Geographic Area Name</th>\n",
       "      <th>TotalHouseholds_LessThan$10.000</th>\n",
       "      <th>TotalHouseholds_$10.000to$14.999</th>\n",
       "      <th>TotalHouseholds_$15.000to$24.999</th>\n",
       "      <th>TotalHouseholds_$25.000to$34.999</th>\n",
       "      <th>TotalHouseholds_$35.000to$49.999</th>\n",
       "      <th>TotalHouseholds_$50.000to$74.999</th>\n",
       "      <th>TotalHouseholds_$75.000to$99.999</th>\n",
       "      <th>TotalHouseholds_$100.000to$149.999</th>\n",
       "      <th>TotalHouseholds_$150.000to$199.999</th>\n",
       "      <th>TotalHouseholds_$200.000OrMore</th>\n",
       "    </tr>\n",
       "  </thead>\n",
       "  <tbody>\n",
       "    <tr>\n",
       "      <th>0</th>\n",
       "      <td>8600000US35004</td>\n",
       "      <td>ZCTA5 35004</td>\n",
       "      <td>198</td>\n",
       "      <td>71</td>\n",
       "      <td>298</td>\n",
       "      <td>513</td>\n",
       "      <td>647</td>\n",
       "      <td>1117</td>\n",
       "      <td>529</td>\n",
       "      <td>945</td>\n",
       "      <td>245</td>\n",
       "      <td>61</td>\n",
       "    </tr>\n",
       "    <tr>\n",
       "      <th>1</th>\n",
       "      <td>8600000US35005</td>\n",
       "      <td>ZCTA5 35005</td>\n",
       "      <td>188</td>\n",
       "      <td>184</td>\n",
       "      <td>318</td>\n",
       "      <td>293</td>\n",
       "      <td>353</td>\n",
       "      <td>562</td>\n",
       "      <td>299</td>\n",
       "      <td>407</td>\n",
       "      <td>67</td>\n",
       "      <td>26</td>\n",
       "    </tr>\n",
       "    <tr>\n",
       "      <th>2</th>\n",
       "      <td>8600000US35006</td>\n",
       "      <td>ZCTA5 35006</td>\n",
       "      <td>71</td>\n",
       "      <td>20</td>\n",
       "      <td>117</td>\n",
       "      <td>104</td>\n",
       "      <td>154</td>\n",
       "      <td>176</td>\n",
       "      <td>124</td>\n",
       "      <td>194</td>\n",
       "      <td>51</td>\n",
       "      <td>7</td>\n",
       "    </tr>\n",
       "    <tr>\n",
       "      <th>3</th>\n",
       "      <td>8600000US35007</td>\n",
       "      <td>ZCTA5 35007</td>\n",
       "      <td>396</td>\n",
       "      <td>208</td>\n",
       "      <td>670</td>\n",
       "      <td>462</td>\n",
       "      <td>1173</td>\n",
       "      <td>1854</td>\n",
       "      <td>1578</td>\n",
       "      <td>2224</td>\n",
       "      <td>473</td>\n",
       "      <td>254</td>\n",
       "    </tr>\n",
       "    <tr>\n",
       "      <th>4</th>\n",
       "      <td>8600000US35010</td>\n",
       "      <td>ZCTA5 35010</td>\n",
       "      <td>700</td>\n",
       "      <td>610</td>\n",
       "      <td>1093</td>\n",
       "      <td>957</td>\n",
       "      <td>1056</td>\n",
       "      <td>1512</td>\n",
       "      <td>807</td>\n",
       "      <td>749</td>\n",
       "      <td>254</td>\n",
       "      <td>249</td>\n",
       "    </tr>\n",
       "  </tbody>\n",
       "</table>\n",
       "</div>"
      ],
      "text/plain": [
       "               id Geographic Area Name  TotalHouseholds_LessThan$10.000  \\\n",
       "0  8600000US35004          ZCTA5 35004                              198   \n",
       "1  8600000US35005          ZCTA5 35005                              188   \n",
       "2  8600000US35006          ZCTA5 35006                               71   \n",
       "3  8600000US35007          ZCTA5 35007                              396   \n",
       "4  8600000US35010          ZCTA5 35010                              700   \n",
       "\n",
       "   TotalHouseholds_$10.000to$14.999  TotalHouseholds_$15.000to$24.999  \\\n",
       "0                                71                               298   \n",
       "1                               184                               318   \n",
       "2                                20                               117   \n",
       "3                               208                               670   \n",
       "4                               610                              1093   \n",
       "\n",
       "   TotalHouseholds_$25.000to$34.999  TotalHouseholds_$35.000to$49.999  \\\n",
       "0                               513                               647   \n",
       "1                               293                               353   \n",
       "2                               104                               154   \n",
       "3                               462                              1173   \n",
       "4                               957                              1056   \n",
       "\n",
       "   TotalHouseholds_$50.000to$74.999  TotalHouseholds_$75.000to$99.999  \\\n",
       "0                              1117                               529   \n",
       "1                               562                               299   \n",
       "2                               176                               124   \n",
       "3                              1854                              1578   \n",
       "4                              1512                               807   \n",
       "\n",
       "   TotalHouseholds_$100.000to$149.999  TotalHouseholds_$150.000to$199.999  \\\n",
       "0                                 945                                 245   \n",
       "1                                 407                                  67   \n",
       "2                                 194                                  51   \n",
       "3                                2224                                 473   \n",
       "4                                 749                                 254   \n",
       "\n",
       "   TotalHouseholds_$200.000OrMore  \n",
       "0                              61  \n",
       "1                              26  \n",
       "2                               7  \n",
       "3                             254  \n",
       "4                             249  "
      ]
     },
     "execution_count": 220,
     "metadata": {},
     "output_type": "execute_result"
    }
   ],
   "source": [
    "df_economic = pd.read_csv(\"data/EconomicData_ZCTAs.csv\", index_col=0)\n",
    "df_economic.head()"
   ]
  },
  {
   "cell_type": "code",
   "execution_count": 221,
   "metadata": {},
   "outputs": [
    {
     "data": {
      "text/plain": [
       "id                                    object\n",
       "Geographic Area Name                  object\n",
       "TotalHouseholds_LessThan$10.000        int64\n",
       "TotalHouseholds_$10.000to$14.999       int64\n",
       "TotalHouseholds_$15.000to$24.999       int64\n",
       "TotalHouseholds_$25.000to$34.999       int64\n",
       "TotalHouseholds_$35.000to$49.999       int64\n",
       "TotalHouseholds_$50.000to$74.999       int64\n",
       "TotalHouseholds_$75.000to$99.999       int64\n",
       "TotalHouseholds_$100.000to$149.999     int64\n",
       "TotalHouseholds_$150.000to$199.999     int64\n",
       "TotalHouseholds_$200.000OrMore         int64\n",
       "dtype: object"
      ]
     },
     "execution_count": 221,
     "metadata": {},
     "output_type": "execute_result"
    }
   ],
   "source": [
    "df_economic.dtypes"
   ]
  },
  {
   "attachments": {},
   "cell_type": "markdown",
   "metadata": {},
   "source": [
    "# 2. Tratamento dos dados"
   ]
  },
  {
   "cell_type": "code",
   "execution_count": 222,
   "metadata": {},
   "outputs": [
    {
     "data": {
      "text/html": [
       "<div>\n",
       "<style scoped>\n",
       "    .dataframe tbody tr th:only-of-type {\n",
       "        vertical-align: middle;\n",
       "    }\n",
       "\n",
       "    .dataframe tbody tr th {\n",
       "        vertical-align: top;\n",
       "    }\n",
       "\n",
       "    .dataframe thead th {\n",
       "        text-align: right;\n",
       "    }\n",
       "</style>\n",
       "<table border=\"1\" class=\"dataframe\">\n",
       "  <thead>\n",
       "    <tr style=\"text-align: right;\">\n",
       "      <th></th>\n",
       "      <th>Lab Id</th>\n",
       "      <th>Address</th>\n",
       "      <th>Location</th>\n",
       "      <th>Zipcode</th>\n",
       "    </tr>\n",
       "  </thead>\n",
       "  <tbody>\n",
       "    <tr>\n",
       "      <th>0</th>\n",
       "      <td>L152</td>\n",
       "      <td>3800 PLEASANT HILL RD STE 1, DULUTH, GA 30096</td>\n",
       "      <td>34.000319,-84.1629724</td>\n",
       "      <td>30096.0</td>\n",
       "    </tr>\n",
       "    <tr>\n",
       "      <th>1</th>\n",
       "      <td>L520</td>\n",
       "      <td>1614 N JAMES ST, ROME, NY 13440</td>\n",
       "      <td>43.2311327,-75.4445363</td>\n",
       "      <td>13440.0</td>\n",
       "    </tr>\n",
       "    <tr>\n",
       "      <th>2</th>\n",
       "      <td>L141</td>\n",
       "      <td>12911 120TH AVE NE STE D60, KIRKLAND, WA 98034</td>\n",
       "      <td>47.7162786,-122.1838152</td>\n",
       "      <td>98034.0</td>\n",
       "    </tr>\n",
       "    <tr>\n",
       "      <th>3</th>\n",
       "      <td>L524</td>\n",
       "      <td>5667 PEACHTREE DUNWOODY RD 250, ATLANTA, GA 30342</td>\n",
       "      <td>33.9093875,-84.3529096</td>\n",
       "      <td>30342.0</td>\n",
       "    </tr>\n",
       "    <tr>\n",
       "      <th>4</th>\n",
       "      <td>L545</td>\n",
       "      <td>1204 IL HWY 164, OQUAWKA, IL 61469</td>\n",
       "      <td>40.9309925,-90.9437598</td>\n",
       "      <td>61469.0</td>\n",
       "    </tr>\n",
       "  </tbody>\n",
       "</table>\n",
       "</div>"
      ],
      "text/plain": [
       "  Lab Id                                            Address  \\\n",
       "0   L152      3800 PLEASANT HILL RD STE 1, DULUTH, GA 30096   \n",
       "1   L520                    1614 N JAMES ST, ROME, NY 13440   \n",
       "2   L141     12911 120TH AVE NE STE D60, KIRKLAND, WA 98034   \n",
       "3   L524  5667 PEACHTREE DUNWOODY RD 250, ATLANTA, GA 30342   \n",
       "4   L545                 1204 IL HWY 164, OQUAWKA, IL 61469   \n",
       "\n",
       "                  Location  Zipcode  \n",
       "0    34.000319,-84.1629724  30096.0  \n",
       "1   43.2311327,-75.4445363  13440.0  \n",
       "2  47.7162786,-122.1838152  98034.0  \n",
       "3   33.9093875,-84.3529096  30342.0  \n",
       "4   40.9309925,-90.9437598  61469.0  "
      ]
     },
     "execution_count": 222,
     "metadata": {},
     "output_type": "execute_result"
    }
   ],
   "source": [
    "df_geo.head()"
   ]
  },
  {
   "cell_type": "code",
   "execution_count": 223,
   "metadata": {},
   "outputs": [
    {
     "data": {
      "text/plain": [
       "Lab Id       object\n",
       "Address      object\n",
       "Location     object\n",
       "Zipcode     float64\n",
       "dtype: object"
      ]
     },
     "execution_count": 223,
     "metadata": {},
     "output_type": "execute_result"
    }
   ],
   "source": [
    "df_geo.dtypes"
   ]
  },
  {
   "cell_type": "code",
   "execution_count": 224,
   "metadata": {},
   "outputs": [
    {
     "data": {
      "text/plain": [
       "Lab Id      0\n",
       "Address     0\n",
       "Location    0\n",
       "Zipcode     1\n",
       "dtype: int64"
      ]
     },
     "execution_count": 224,
     "metadata": {},
     "output_type": "execute_result"
    }
   ],
   "source": [
    "df_geo.isnull().sum()"
   ]
  },
  {
   "cell_type": "code",
   "execution_count": 225,
   "metadata": {},
   "outputs": [],
   "source": [
    "df_geo = df_geo.dropna(axis=0)"
   ]
  },
  {
   "cell_type": "code",
   "execution_count": 226,
   "metadata": {},
   "outputs": [
    {
     "data": {
      "text/html": [
       "<div>\n",
       "<style scoped>\n",
       "    .dataframe tbody tr th:only-of-type {\n",
       "        vertical-align: middle;\n",
       "    }\n",
       "\n",
       "    .dataframe tbody tr th {\n",
       "        vertical-align: top;\n",
       "    }\n",
       "\n",
       "    .dataframe thead th {\n",
       "        text-align: right;\n",
       "    }\n",
       "</style>\n",
       "<table border=\"1\" class=\"dataframe\">\n",
       "  <thead>\n",
       "    <tr style=\"text-align: right;\">\n",
       "      <th></th>\n",
       "      <th>Zipcode</th>\n",
       "      <th>Lab Id</th>\n",
       "      <th>Address</th>\n",
       "    </tr>\n",
       "  </thead>\n",
       "  <tbody>\n",
       "    <tr>\n",
       "      <th>0</th>\n",
       "      <td>30096.0</td>\n",
       "      <td>L152</td>\n",
       "      <td>3800 PLEASANT HILL RD STE 1, DULUTH, GA 30096</td>\n",
       "    </tr>\n",
       "    <tr>\n",
       "      <th>1</th>\n",
       "      <td>13440.0</td>\n",
       "      <td>L520</td>\n",
       "      <td>1614 N JAMES ST, ROME, NY 13440</td>\n",
       "    </tr>\n",
       "    <tr>\n",
       "      <th>2</th>\n",
       "      <td>98034.0</td>\n",
       "      <td>L141</td>\n",
       "      <td>12911 120TH AVE NE STE D60, KIRKLAND, WA 98034</td>\n",
       "    </tr>\n",
       "    <tr>\n",
       "      <th>3</th>\n",
       "      <td>30342.0</td>\n",
       "      <td>L524</td>\n",
       "      <td>5667 PEACHTREE DUNWOODY RD 250, ATLANTA, GA 30342</td>\n",
       "    </tr>\n",
       "    <tr>\n",
       "      <th>4</th>\n",
       "      <td>61469.0</td>\n",
       "      <td>L545</td>\n",
       "      <td>1204 IL HWY 164, OQUAWKA, IL 61469</td>\n",
       "    </tr>\n",
       "  </tbody>\n",
       "</table>\n",
       "</div>"
      ],
      "text/plain": [
       "   Zipcode Lab Id                                            Address\n",
       "0  30096.0   L152      3800 PLEASANT HILL RD STE 1, DULUTH, GA 30096\n",
       "1  13440.0   L520                    1614 N JAMES ST, ROME, NY 13440\n",
       "2  98034.0   L141     12911 120TH AVE NE STE D60, KIRKLAND, WA 98034\n",
       "3  30342.0   L524  5667 PEACHTREE DUNWOODY RD 250, ATLANTA, GA 30342\n",
       "4  61469.0   L545                 1204 IL HWY 164, OQUAWKA, IL 61469"
      ]
     },
     "execution_count": 226,
     "metadata": {},
     "output_type": "execute_result"
    }
   ],
   "source": [
    "df_labs = df_geo[[\"Zipcode\", \"Lab Id\", \"Address\"]]\n",
    "df_labs.head()"
   ]
  },
  {
   "cell_type": "code",
   "execution_count": 227,
   "metadata": {},
   "outputs": [
    {
     "data": {
      "text/html": [
       "<div>\n",
       "<style scoped>\n",
       "    .dataframe tbody tr th:only-of-type {\n",
       "        vertical-align: middle;\n",
       "    }\n",
       "\n",
       "    .dataframe tbody tr th {\n",
       "        vertical-align: top;\n",
       "    }\n",
       "\n",
       "    .dataframe thead th {\n",
       "        text-align: right;\n",
       "    }\n",
       "</style>\n",
       "<table border=\"1\" class=\"dataframe\">\n",
       "  <thead>\n",
       "    <tr style=\"text-align: right;\">\n",
       "      <th></th>\n",
       "      <th>Zipcode</th>\n",
       "      <th>Lab Id</th>\n",
       "      <th>Address</th>\n",
       "      <th>Lat</th>\n",
       "      <th>Lon</th>\n",
       "    </tr>\n",
       "  </thead>\n",
       "  <tbody>\n",
       "    <tr>\n",
       "      <th>0</th>\n",
       "      <td>30096.0</td>\n",
       "      <td>L152</td>\n",
       "      <td>3800 PLEASANT HILL RD STE 1, DULUTH, GA 30096</td>\n",
       "      <td>34.000319</td>\n",
       "      <td>-84.162972</td>\n",
       "    </tr>\n",
       "    <tr>\n",
       "      <th>1</th>\n",
       "      <td>13440.0</td>\n",
       "      <td>L520</td>\n",
       "      <td>1614 N JAMES ST, ROME, NY 13440</td>\n",
       "      <td>43.231133</td>\n",
       "      <td>-75.444536</td>\n",
       "    </tr>\n",
       "    <tr>\n",
       "      <th>2</th>\n",
       "      <td>98034.0</td>\n",
       "      <td>L141</td>\n",
       "      <td>12911 120TH AVE NE STE D60, KIRKLAND, WA 98034</td>\n",
       "      <td>47.716279</td>\n",
       "      <td>-122.183815</td>\n",
       "    </tr>\n",
       "    <tr>\n",
       "      <th>3</th>\n",
       "      <td>30342.0</td>\n",
       "      <td>L524</td>\n",
       "      <td>5667 PEACHTREE DUNWOODY RD 250, ATLANTA, GA 30342</td>\n",
       "      <td>33.909388</td>\n",
       "      <td>-84.352910</td>\n",
       "    </tr>\n",
       "    <tr>\n",
       "      <th>4</th>\n",
       "      <td>61469.0</td>\n",
       "      <td>L545</td>\n",
       "      <td>1204 IL HWY 164, OQUAWKA, IL 61469</td>\n",
       "      <td>40.930993</td>\n",
       "      <td>-90.943760</td>\n",
       "    </tr>\n",
       "  </tbody>\n",
       "</table>\n",
       "</div>"
      ],
      "text/plain": [
       "   Zipcode Lab Id                                            Address  \\\n",
       "0  30096.0   L152      3800 PLEASANT HILL RD STE 1, DULUTH, GA 30096   \n",
       "1  13440.0   L520                    1614 N JAMES ST, ROME, NY 13440   \n",
       "2  98034.0   L141     12911 120TH AVE NE STE D60, KIRKLAND, WA 98034   \n",
       "3  30342.0   L524  5667 PEACHTREE DUNWOODY RD 250, ATLANTA, GA 30342   \n",
       "4  61469.0   L545                 1204 IL HWY 164, OQUAWKA, IL 61469   \n",
       "\n",
       "         Lat         Lon  \n",
       "0  34.000319  -84.162972  \n",
       "1  43.231133  -75.444536  \n",
       "2  47.716279 -122.183815  \n",
       "3  33.909388  -84.352910  \n",
       "4  40.930993  -90.943760  "
      ]
     },
     "execution_count": 227,
     "metadata": {},
     "output_type": "execute_result"
    }
   ],
   "source": [
    "# Separar a coluna Location em duas Colunas de Latitude e Longitude\n",
    "lat = []\n",
    "lon = []\n",
    "for location in df_geo[\"Location\"]:\n",
    "    lat_lon = location.split(\",\")\n",
    "    lat.append(float(lat_lon[0]))\n",
    "    lon.append(float(lat_lon[1]))\n",
    "df_labs[\"Lat\"] = lat\n",
    "df_labs[\"Lon\"] = lon\n",
    "df_labs.head()"
   ]
  },
  {
   "cell_type": "code",
   "execution_count": 228,
   "metadata": {},
   "outputs": [
    {
     "data": {
      "text/html": [
       "<div>\n",
       "<style scoped>\n",
       "    .dataframe tbody tr th:only-of-type {\n",
       "        vertical-align: middle;\n",
       "    }\n",
       "\n",
       "    .dataframe tbody tr th {\n",
       "        vertical-align: top;\n",
       "    }\n",
       "\n",
       "    .dataframe thead th {\n",
       "        text-align: right;\n",
       "    }\n",
       "</style>\n",
       "<table border=\"1\" class=\"dataframe\">\n",
       "  <thead>\n",
       "    <tr style=\"text-align: right;\">\n",
       "      <th></th>\n",
       "      <th>Patient Id</th>\n",
       "      <th>Gender</th>\n",
       "      <th>Date of birth</th>\n",
       "      <th>Date of service</th>\n",
       "      <th>Service Id</th>\n",
       "      <th>Lab Id</th>\n",
       "      <th>CodItem</th>\n",
       "      <th>Testing Cost_x</th>\n",
       "      <th>Desc Item</th>\n",
       "      <th>Category</th>\n",
       "      <th>Family</th>\n",
       "      <th>Speciality</th>\n",
       "      <th>Testing Cost_y</th>\n",
       "    </tr>\n",
       "  </thead>\n",
       "  <tbody>\n",
       "    <tr>\n",
       "      <th>0</th>\n",
       "      <td>10210830256-BIO003</td>\n",
       "      <td>F</td>\n",
       "      <td>01/08/1976 00:00:00</td>\n",
       "      <td>2019-01-07</td>\n",
       "      <td>571904533475-38</td>\n",
       "      <td>L133</td>\n",
       "      <td>70003237</td>\n",
       "      <td>9,0</td>\n",
       "      <td>MAGNESIO, SORO (EXEMPLO DE EXPRESSAO DE RESULT...</td>\n",
       "      <td>CA</td>\n",
       "      <td>CORELAB</td>\n",
       "      <td>BIOCHEMISTRY</td>\n",
       "      <td>1.78</td>\n",
       "    </tr>\n",
       "    <tr>\n",
       "      <th>1</th>\n",
       "      <td>10225666807-BIO002</td>\n",
       "      <td>F</td>\n",
       "      <td>16/07/1968 00:00:00</td>\n",
       "      <td>2019-01-15</td>\n",
       "      <td>573103867832-51</td>\n",
       "      <td>L139</td>\n",
       "      <td>70003237</td>\n",
       "      <td>9,0</td>\n",
       "      <td>MAGNESIO, SORO (EXEMPLO DE EXPRESSAO DE RESULT...</td>\n",
       "      <td>CA</td>\n",
       "      <td>CORELAB</td>\n",
       "      <td>BIOCHEMISTRY</td>\n",
       "      <td>1.78</td>\n",
       "    </tr>\n",
       "    <tr>\n",
       "      <th>2</th>\n",
       "      <td>571700011536-BIO002</td>\n",
       "      <td>F</td>\n",
       "      <td>17/04/1961 00:00:00</td>\n",
       "      <td>2019-01-04</td>\n",
       "      <td>571706608210-36</td>\n",
       "      <td>L131</td>\n",
       "      <td>70003237</td>\n",
       "      <td>9,0</td>\n",
       "      <td>MAGNESIO, SORO (EXEMPLO DE EXPRESSAO DE RESULT...</td>\n",
       "      <td>CA</td>\n",
       "      <td>CORELAB</td>\n",
       "      <td>BIOCHEMISTRY</td>\n",
       "      <td>1.78</td>\n",
       "    </tr>\n",
       "    <tr>\n",
       "      <th>3</th>\n",
       "      <td>574400001820-BIO002</td>\n",
       "      <td>F</td>\n",
       "      <td>01/04/1966 00:00:00</td>\n",
       "      <td>2019-01-17</td>\n",
       "      <td>574400919309-64</td>\n",
       "      <td>L150</td>\n",
       "      <td>70003237</td>\n",
       "      <td>9,0</td>\n",
       "      <td>MAGNESIO, SORO (EXEMPLO DE EXPRESSAO DE RESULT...</td>\n",
       "      <td>CA</td>\n",
       "      <td>CORELAB</td>\n",
       "      <td>BIOCHEMISTRY</td>\n",
       "      <td>1.78</td>\n",
       "    </tr>\n",
       "    <tr>\n",
       "      <th>4</th>\n",
       "      <td>10210855836-BIO003</td>\n",
       "      <td>F</td>\n",
       "      <td>25/12/1980 00:00:00</td>\n",
       "      <td>2019-02-08</td>\n",
       "      <td>575007148185-72</td>\n",
       "      <td>L155</td>\n",
       "      <td>70003237</td>\n",
       "      <td>9,0</td>\n",
       "      <td>MAGNESIO, SORO (EXEMPLO DE EXPRESSAO DE RESULT...</td>\n",
       "      <td>CA</td>\n",
       "      <td>CORELAB</td>\n",
       "      <td>BIOCHEMISTRY</td>\n",
       "      <td>1.78</td>\n",
       "    </tr>\n",
       "  </tbody>\n",
       "</table>\n",
       "</div>"
      ],
      "text/plain": [
       "            Patient Id Gender        Date of birth Date of service  \\\n",
       "0   10210830256-BIO003      F  01/08/1976 00:00:00      2019-01-07   \n",
       "1   10225666807-BIO002      F  16/07/1968 00:00:00      2019-01-15   \n",
       "2  571700011536-BIO002      F  17/04/1961 00:00:00      2019-01-04   \n",
       "3  574400001820-BIO002      F  01/04/1966 00:00:00      2019-01-17   \n",
       "4   10210855836-BIO003      F  25/12/1980 00:00:00      2019-02-08   \n",
       "\n",
       "        Service Id Lab Id   CodItem Testing Cost_x  \\\n",
       "0  571904533475-38   L133  70003237            9,0   \n",
       "1  573103867832-51   L139  70003237            9,0   \n",
       "2  571706608210-36   L131  70003237            9,0   \n",
       "3  574400919309-64   L150  70003237            9,0   \n",
       "4  575007148185-72   L155  70003237            9,0   \n",
       "\n",
       "                                           Desc Item Category   Family  \\\n",
       "0  MAGNESIO, SORO (EXEMPLO DE EXPRESSAO DE RESULT...       CA  CORELAB   \n",
       "1  MAGNESIO, SORO (EXEMPLO DE EXPRESSAO DE RESULT...       CA  CORELAB   \n",
       "2  MAGNESIO, SORO (EXEMPLO DE EXPRESSAO DE RESULT...       CA  CORELAB   \n",
       "3  MAGNESIO, SORO (EXEMPLO DE EXPRESSAO DE RESULT...       CA  CORELAB   \n",
       "4  MAGNESIO, SORO (EXEMPLO DE EXPRESSAO DE RESULT...       CA  CORELAB   \n",
       "\n",
       "     Speciality  Testing Cost_y  \n",
       "0  BIOCHEMISTRY            1.78  \n",
       "1  BIOCHEMISTRY            1.78  \n",
       "2  BIOCHEMISTRY            1.78  \n",
       "3  BIOCHEMISTRY            1.78  \n",
       "4  BIOCHEMISTRY            1.78  "
      ]
     },
     "execution_count": 228,
     "metadata": {},
     "output_type": "execute_result"
    }
   ],
   "source": [
    "# unindo os dataframes pela coluna cod_item\n",
    "df_exames = pd.merge(df_exames, df_info_exames, on='CodItem')\n",
    "df_exames.head()"
   ]
  },
  {
   "cell_type": "code",
   "execution_count": 229,
   "metadata": {},
   "outputs": [
    {
     "data": {
      "text/plain": [
       "array(['F', 'M', 'I'], dtype=object)"
      ]
     },
     "execution_count": 229,
     "metadata": {},
     "output_type": "execute_result"
    }
   ],
   "source": [
    "df_exames[\"Gender\"].unique()"
   ]
  },
  {
   "cell_type": "code",
   "execution_count": 230,
   "metadata": {},
   "outputs": [
    {
     "data": {
      "text/html": [
       "<div>\n",
       "<style scoped>\n",
       "    .dataframe tbody tr th:only-of-type {\n",
       "        vertical-align: middle;\n",
       "    }\n",
       "\n",
       "    .dataframe tbody tr th {\n",
       "        vertical-align: top;\n",
       "    }\n",
       "\n",
       "    .dataframe thead th {\n",
       "        text-align: right;\n",
       "    }\n",
       "</style>\n",
       "<table border=\"1\" class=\"dataframe\">\n",
       "  <thead>\n",
       "    <tr style=\"text-align: right;\">\n",
       "      <th></th>\n",
       "      <th>Zipcode</th>\n",
       "      <th>Lab Id</th>\n",
       "      <th>Qtd de Clientes</th>\n",
       "      <th>Faturamento</th>\n",
       "      <th>Qtd de Exames</th>\n",
       "      <th>Ticket Médio</th>\n",
       "      <th>Qtd de Exames para Mulheres</th>\n",
       "      <th>Qtd de Exames para Homens</th>\n",
       "      <th>Custo Total</th>\n",
       "      <th>Custo Médio</th>\n",
       "      <th>Qtd de Exames Diferentes</th>\n",
       "      <th>Qtd de Categorias Diferentes</th>\n",
       "      <th>Qtd de Famílias Diferentes</th>\n",
       "      <th>Qtd de Especialidades Diferentes</th>\n",
       "    </tr>\n",
       "  </thead>\n",
       "  <tbody>\n",
       "    <tr>\n",
       "      <th>0</th>\n",
       "      <td>30096.0</td>\n",
       "      <td>L152</td>\n",
       "      <td>22016</td>\n",
       "      <td>6255437.62</td>\n",
       "      <td>95828</td>\n",
       "      <td>65.277765</td>\n",
       "      <td>62247</td>\n",
       "      <td>33581</td>\n",
       "      <td>2512512.65</td>\n",
       "      <td>26.218982</td>\n",
       "      <td>938</td>\n",
       "      <td>6</td>\n",
       "      <td>21</td>\n",
       "      <td>67</td>\n",
       "    </tr>\n",
       "    <tr>\n",
       "      <th>1</th>\n",
       "      <td>13440.0</td>\n",
       "      <td>L520</td>\n",
       "      <td>3815</td>\n",
       "      <td>582095.96</td>\n",
       "      <td>20561</td>\n",
       "      <td>28.310683</td>\n",
       "      <td>12989</td>\n",
       "      <td>7572</td>\n",
       "      <td>79524.27</td>\n",
       "      <td>3.867724</td>\n",
       "      <td>456</td>\n",
       "      <td>3</td>\n",
       "      <td>11</td>\n",
       "      <td>36</td>\n",
       "    </tr>\n",
       "    <tr>\n",
       "      <th>2</th>\n",
       "      <td>98034.0</td>\n",
       "      <td>L141</td>\n",
       "      <td>11937</td>\n",
       "      <td>2800703.10</td>\n",
       "      <td>51051</td>\n",
       "      <td>54.860886</td>\n",
       "      <td>35767</td>\n",
       "      <td>15284</td>\n",
       "      <td>1103809.48</td>\n",
       "      <td>21.621701</td>\n",
       "      <td>670</td>\n",
       "      <td>5</td>\n",
       "      <td>16</td>\n",
       "      <td>53</td>\n",
       "    </tr>\n",
       "    <tr>\n",
       "      <th>3</th>\n",
       "      <td>30342.0</td>\n",
       "      <td>L524</td>\n",
       "      <td>2771</td>\n",
       "      <td>367192.36</td>\n",
       "      <td>13257</td>\n",
       "      <td>27.697998</td>\n",
       "      <td>8253</td>\n",
       "      <td>5004</td>\n",
       "      <td>43226.04</td>\n",
       "      <td>3.260620</td>\n",
       "      <td>343</td>\n",
       "      <td>2</td>\n",
       "      <td>10</td>\n",
       "      <td>32</td>\n",
       "    </tr>\n",
       "    <tr>\n",
       "      <th>4</th>\n",
       "      <td>61469.0</td>\n",
       "      <td>L545</td>\n",
       "      <td>471</td>\n",
       "      <td>88457.00</td>\n",
       "      <td>2823</td>\n",
       "      <td>31.334396</td>\n",
       "      <td>1717</td>\n",
       "      <td>1106</td>\n",
       "      <td>9643.79</td>\n",
       "      <td>3.416149</td>\n",
       "      <td>237</td>\n",
       "      <td>2</td>\n",
       "      <td>10</td>\n",
       "      <td>29</td>\n",
       "    </tr>\n",
       "  </tbody>\n",
       "</table>\n",
       "</div>"
      ],
      "text/plain": [
       "   Zipcode Lab Id  Qtd de Clientes  Faturamento  Qtd de Exames  Ticket Médio  \\\n",
       "0  30096.0   L152            22016   6255437.62          95828     65.277765   \n",
       "1  13440.0   L520             3815    582095.96          20561     28.310683   \n",
       "2  98034.0   L141            11937   2800703.10          51051     54.860886   \n",
       "3  30342.0   L524             2771    367192.36          13257     27.697998   \n",
       "4  61469.0   L545              471     88457.00           2823     31.334396   \n",
       "\n",
       "   Qtd de Exames para Mulheres  Qtd de Exames para Homens  Custo Total  \\\n",
       "0                        62247                      33581   2512512.65   \n",
       "1                        12989                       7572     79524.27   \n",
       "2                        35767                      15284   1103809.48   \n",
       "3                         8253                       5004     43226.04   \n",
       "4                         1717                       1106      9643.79   \n",
       "\n",
       "   Custo Médio  Qtd de Exames Diferentes  Qtd de Categorias Diferentes  \\\n",
       "0    26.218982                       938                             6   \n",
       "1     3.867724                       456                             3   \n",
       "2    21.621701                       670                             5   \n",
       "3     3.260620                       343                             2   \n",
       "4     3.416149                       237                             2   \n",
       "\n",
       "   Qtd de Famílias Diferentes  Qtd de Especialidades Diferentes  \n",
       "0                          21                                67  \n",
       "1                          11                                36  \n",
       "2                          16                                53  \n",
       "3                          10                                32  \n",
       "4                          10                                29  "
      ]
     },
     "execution_count": 230,
     "metadata": {},
     "output_type": "execute_result"
    }
   ],
   "source": [
    "# Transformar a coluna Testing Cost de string para float\n",
    "testing_costs = []\n",
    "for cost in df_exames[\"Testing Cost_x\"]:\n",
    "    testing_costs.append(float(cost.replace(',', '.')))\n",
    "df_exames[\"Testing Cost_x\"] = testing_costs\n",
    "\n",
    "# Calcular o número de clientes para cada laboratório\n",
    "qtd_clientes = df_exames.groupby('Lab Id')['Patient Id'].nunique()\n",
    "\n",
    "# Calcular o valor total para cada laboratório\n",
    "df_exames_total = df_exames.groupby('Lab Id')['Testing Cost_x'].sum()\n",
    "\n",
    "# Calcular o número de exames para cada laboratório\n",
    "df_exames_count = df_exames.groupby('Lab Id')['Testing Cost_x'].count()\n",
    "\n",
    "# Calcular o ticket médio para cada laboratório\n",
    "df_exames_mean = df_exames.groupby('Lab Id')['Testing Cost_x'].mean()\n",
    "\n",
    "# Calcular o número de exames para mulheres\n",
    "df_exames_mulheres = df_exames[df_exames[\"Gender\"] == \"F\"].groupby('Lab Id')['Gender'].count()\n",
    "\n",
    "# Calcular o número de exames para homens\n",
    "df_exames_homens = df_exames[df_exames[\"Gender\"] == \"M\"].groupby('Lab Id')['Gender'].count()\n",
    "\n",
    "# Calcular o valor total gasto para cada laboratório\n",
    "df_exames_total_cost = df_exames.groupby('Lab Id')['Testing Cost_y'].sum()\n",
    "\n",
    "# Calcular o custo médio para cada laboratório\n",
    "df_exames_mean_cost = df_exames.groupby('Lab Id')['Testing Cost_y'].mean()\n",
    "\n",
    "# agrupando por laboratório e contando valores únicos de exames\n",
    "qtd_exames_por_lab = df_exames.groupby('Lab Id')['CodItem'].nunique()\n",
    "\n",
    "# agrupando por laboratório e contando valores únicos de categorias\n",
    "qtd_categorias_por_lab = df_exames.groupby('Lab Id')['Category'].nunique()\n",
    "\n",
    "# agrupando por laboratório e contando valores únicos de famílias\n",
    "qtd_familias_por_lab = df_exames.groupby('Lab Id')['Family'].nunique()\n",
    "\n",
    "# agrupando por laboratório e contando valores únicos de especialidades\n",
    "qtd_especialidades_por_lab = df_exames.groupby('Lab Id')['Speciality'].nunique()\n",
    "\n",
    "# Juntar os resultados em um único dataframe\n",
    "df_resultado = pd.concat([qtd_clientes, df_exames_total, df_exames_count, df_exames_mean, df_exames_mulheres, df_exames_homens, df_exames_total_cost, df_exames_mean_cost, qtd_exames_por_lab, qtd_categorias_por_lab, qtd_familias_por_lab, qtd_especialidades_por_lab], axis=1)\n",
    "df_resultado.columns = ['Qtd de Clientes', 'Faturamento', 'Qtd de Exames', 'Ticket Médio', \"Qtd de Exames para Mulheres\", \"Qtd de Exames para Homens\", \"Custo Total\", \"Custo Médio\", \"Qtd de Exames Diferentes\", \"Qtd de Categorias Diferentes\", \"Qtd de Famílias Diferentes\", \"Qtd de Especialidades Diferentes\"]\n",
    "\n",
    "# Juntar com o dataframe dos laboratórios\n",
    "df_labs = df_labs.merge(df_resultado, left_on='Lab Id', right_index=True)\n",
    "df_labs[[\"Zipcode\", \"Lab Id\", \"Qtd de Clientes\", \"Faturamento\", \"Qtd de Exames\", \"Ticket Médio\", \"Qtd de Exames para Mulheres\", \"Qtd de Exames para Homens\", \"Custo Total\", \"Custo Médio\", \"Qtd de Exames Diferentes\", \"Qtd de Categorias Diferentes\", \"Qtd de Famílias Diferentes\", \"Qtd de Especialidades Diferentes\"]].head()"
   ]
  },
  {
   "attachments": {},
   "cell_type": "markdown",
   "metadata": {},
   "source": [
    "# 3. Análise dos dados dos laboratórios atuais"
   ]
  },
  {
   "cell_type": "code",
   "execution_count": 231,
   "metadata": {},
   "outputs": [],
   "source": [
    "# Importando as bibliotecas\n",
    "import matplotlib.pyplot as plt\n",
    "import seaborn as sns"
   ]
  },
  {
   "attachments": {},
   "cell_type": "markdown",
   "metadata": {},
   "source": [
    "## Distribuição geográfica dos laboratórios"
   ]
  },
  {
   "cell_type": "code",
   "execution_count": 232,
   "metadata": {},
   "outputs": [
    {
     "data": {
      "text/plain": [
       "[Text(0.5, 1.0, 'Distribuição geográfica dos clusters')]"
      ]
     },
     "execution_count": 232,
     "metadata": {},
     "output_type": "execute_result"
    },
    {
     "data": {
      "image/png": "[encoded data removed]",
      "text/plain": [
       "<Figure size 1728x720 with 1 Axes>"
      ]
     },
     "metadata": {
      "needs_background": "light"
     },
     "output_type": "display_data"
    }
   ],
   "source": [
    "plt.figure(figsize=(24, 10))\n",
    "geo = sns.scatterplot(data=df_labs, x=\"Lon\", y=\"Lat\", s=100)\n",
    "geo.set(title=\"Distribuição geográfica dos clusters\")"
   ]
  },
  {
   "attachments": {},
   "cell_type": "markdown",
   "metadata": {},
   "source": [
    "* Pontos mais concentrados indicam laboratórios com grande grau de competitividade, possuem uma maior quantidade de clientes e um valor mais caro para os exames;\n",
    "* Pontos menos concentrados indicam laboratórios com pequeno grau de competitividade, possuem uma menor quantidade de clientes e um valor mais barato para os exames."
   ]
  },
  {
   "attachments": {},
   "cell_type": "markdown",
   "metadata": {},
   "source": [
    "## Faturamento por Laboratório"
   ]
  },
  {
   "cell_type": "code",
   "execution_count": 233,
   "metadata": {},
   "outputs": [
    {
     "data": {
      "text/plain": [
       "<function matplotlib.pyplot.show(close=None, block=None)>"
      ]
     },
     "execution_count": 233,
     "metadata": {},
     "output_type": "execute_result"
    },
    {
     "data": {
      "image/png": "[encoded data removed]",
      "text/plain": [
       "<Figure size 1728x720 with 1 Axes>"
      ]
     },
     "metadata": {
      "needs_background": "light"
     },
     "output_type": "display_data"
    }
   ],
   "source": [
    "media_faturamento = df_labs[\"Faturamento\"].mean()\n",
    "plt.figure(figsize=(24, 10))\n",
    "geo = sns.barplot(data=df_labs.sort_values(by=\"Faturamento\"), x=\"Lab Id\", y=\"Faturamento\")\n",
    "plt.axhline(media_faturamento, 0, 1, color=\"black\", **{\"ls\": \"--\"})\n",
    "geo.set(title=\"Faturamento po laboratório\")\n",
    "plt.setp(plt.gca().get_xticklabels(), rotation=90, horizontalalignment='right')\n",
    "plt.show"
   ]
  },
  {
   "attachments": {},
   "cell_type": "markdown",
   "metadata": {},
   "source": [
    "Seria interessante escolher apenas os laboratórios acima da média de faturamento, porém outros aspectos têm que ser levados em consideração e essa medida pode ser um pouco enganosa de certa forma. Pode ser que estejam com um faturamento altíssimo, mas podem estar trabalhando com uma margem pequena para conseguir competir no mercado ou estarem operando no prejuízo."
   ]
  },
  {
   "attachments": {},
   "cell_type": "markdown",
   "metadata": {},
   "source": [
    "## Distribuição geográfica do faturamento"
   ]
  },
  {
   "cell_type": "code",
   "execution_count": 234,
   "metadata": {},
   "outputs": [
    {
     "data": {
      "text/plain": [
       "<AxesSubplot:xlabel='Lon', ylabel='Lat'>"
      ]
     },
     "execution_count": 234,
     "metadata": {},
     "output_type": "execute_result"
    },
    {
     "data": {
      "image/png": "[encoded data removed]",
      "text/plain": [
       "<Figure size 1728x720 with 1 Axes>"
      ]
     },
     "metadata": {
      "needs_background": "light"
     },
     "output_type": "display_data"
    }
   ],
   "source": [
    "plt.figure(figsize=(24,10))\n",
    "sns.scatterplot(data=df_labs, x=\"Lon\", y=\"Lat\", size=\"Faturamento\", sizes=(20, 2000))"
   ]
  },
  {
   "attachments": {},
   "cell_type": "markdown",
   "metadata": {},
   "source": [
    "Esse gráfico ajuda a entender um pouco melhor como a posição geográfica afeta no faturamento dos laboratórios. Sendo bastante interessante trabalhar com laboratórios mais isolados, porém com uma quantidade significativa de faturamento. Além disso, pode se notar que alguns laboratórios se sobressasaem mesmo com uma alta quantidade de laboratórios, o que indica um domínio desses laboratórios nessas regiões."
   ]
  },
  {
   "attachments": {},
   "cell_type": "markdown",
   "metadata": {},
   "source": [
    "## Distribuição geográfica do ticket médio"
   ]
  },
  {
   "cell_type": "code",
   "execution_count": 235,
   "metadata": {},
   "outputs": [
    {
     "data": {
      "text/plain": [
       "<AxesSubplot:xlabel='Lon', ylabel='Lat'>"
      ]
     },
     "execution_count": 235,
     "metadata": {},
     "output_type": "execute_result"
    },
    {
     "data": {
      "image/png": "[encoded data removed]",
      "text/plain": [
       "<Figure size 1728x720 with 1 Axes>"
      ]
     },
     "metadata": {
      "needs_background": "light"
     },
     "output_type": "display_data"
    }
   ],
   "source": [
    "plt.figure(figsize=(24,10))\n",
    "sns.scatterplot(data=df_labs, x=\"Lon\", y=\"Lat\", size=\"Ticket Médio\", sizes=(20, 2000))"
   ]
  },
  {
   "attachments": {},
   "cell_type": "markdown",
   "metadata": {},
   "source": [
    "## Distribuição geográfica do número de exames"
   ]
  },
  {
   "cell_type": "code",
   "execution_count": 236,
   "metadata": {},
   "outputs": [
    {
     "data": {
      "text/plain": [
       "<AxesSubplot:xlabel='Lon', ylabel='Lat'>"
      ]
     },
     "execution_count": 236,
     "metadata": {},
     "output_type": "execute_result"
    },
    {
     "data": {
      "image/png": "[encoded data removed]",
      "text/plain": [
       "<Figure size 1728x720 with 1 Axes>"
      ]
     },
     "metadata": {
      "needs_background": "light"
     },
     "output_type": "display_data"
    }
   ],
   "source": [
    "plt.figure(figsize=(24,10))\n",
    "sns.scatterplot(data=df_labs, x=\"Lon\", y=\"Lat\", size=\"Qtd de Exames\", sizes=(20, 2000))"
   ]
  },
  {
   "attachments": {},
   "cell_type": "markdown",
   "metadata": {},
   "source": [
    "## Ticket Médio x Número de Exames"
   ]
  },
  {
   "cell_type": "code",
   "execution_count": 237,
   "metadata": {},
   "outputs": [
    {
     "data": {
      "text/plain": [
       "<matplotlib.lines.Line2D at 0x258dabf22f0>"
      ]
     },
     "execution_count": 237,
     "metadata": {},
     "output_type": "execute_result"
    },
    {
     "data": {
      "image/png": "[encoded data removed]",
      "text/plain": [
       "<Figure size 720x720 with 1 Axes>"
      ]
     },
     "metadata": {
      "needs_background": "light"
     },
     "output_type": "display_data"
    }
   ],
   "source": [
    "media_numero_exames = df_labs[\"Qtd de Exames\"].mean()\n",
    "media_ticket_medio = df_labs[\"Ticket Médio\"].mean()\n",
    "plt.figure(figsize=(10, 10))\n",
    "sns.scatterplot(data=df_labs, x=\"Qtd de Exames\", y=\"Ticket Médio\", s=100)\n",
    "plt.axhline(media_ticket_medio, 0, 1, color=\"black\", **{\"ls\": \"--\"})\n",
    "plt.axvline(media_numero_exames, 0, 1, color=\"black\", **{\"ls\": \"--\"})"
   ]
  },
  {
   "attachments": {},
   "cell_type": "markdown",
   "metadata": {},
   "source": [
    "O gráfico é dividido em quatro áreas com características distintas:\n",
    "* Superior direito: Possuem um alto ticket médio e um alto número de exames (Ótimo);\n",
    "* Superior esquerdo: Possuem um alto ticket médio e um baixo número de exames (Bom);\n",
    "* Inferior direito: Possuem um baixo ticket médio e um alto número de exames (Bom);\n",
    "* Inferior esquerdo: Possuem um baixo ticket médio e um baixo número de exames (Ruim)."
   ]
  },
  {
   "attachments": {},
   "cell_type": "markdown",
   "metadata": {},
   "source": [
    "## Número de Exames para Mulheres e Homens"
   ]
  },
  {
   "cell_type": "code",
   "execution_count": 238,
   "metadata": {},
   "outputs": [
    {
     "data": {
      "text/plain": [
       "<seaborn.axisgrid.JointGrid at 0x2597a97d090>"
      ]
     },
     "execution_count": 238,
     "metadata": {},
     "output_type": "execute_result"
    },
    {
     "data": {
      "image/png": "[encoded data removed]",
      "text/plain": [
       "<Figure size 604.8x604.8 with 3 Axes>"
      ]
     },
     "metadata": {
      "needs_background": "light"
     },
     "output_type": "display_data"
    }
   ],
   "source": [
    "sns.jointplot(data=df_labs, x=\"Qtd de Exames para Mulheres\", y=\"Qtd de Exames para Homens\", kind=\"reg\", height=8.4)"
   ]
  },
  {
   "attachments": {},
   "cell_type": "markdown",
   "metadata": {},
   "source": [
    "* Identificação de um padrão de comportamento da proporção de exames para mulheres e para homens\n",
    "* Existindo uma tendência para uma maior quantidade de mulheres realizando os exames do que homens"
   ]
  }
 ],
 "metadata": {
  "kernelspec": {
   "display_name": "Python 3",
   "language": "python",
   "name": "python3"
  },
  "language_info": {
   "codemirror_mode": {
    "name": "ipython",
    "version": 3
   },
   "file_extension": ".py",
   "mimetype": "text/x-python",
   "name": "python",
   "nbconvert_exporter": "python",
   "pygments_lexer": "ipython3",
   "version": "3.10.4"
  },
  "orig_nbformat": 4
 },
 "nbformat": 4,
 "nbformat_minor": 2
}
